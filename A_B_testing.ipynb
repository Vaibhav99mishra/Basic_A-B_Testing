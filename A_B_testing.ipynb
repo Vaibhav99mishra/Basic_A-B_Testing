{
  "nbformat": 4,
  "nbformat_minor": 0,
  "metadata": {
    "colab": {
      "provenance": [],
      "gpuType": "T4"
    },
    "kernelspec": {
      "name": "python3",
      "display_name": "Python 3"
    },
    "language_info": {
      "name": "python"
    },
    "accelerator": "GPU"
  },
  "cells": [
    {
      "cell_type": "code",
      "execution_count": 1,
      "metadata": {
        "colab": {
          "base_uri": "https://localhost:8080/"
        },
        "id": "hE2o3wigIvQF",
        "outputId": "ad45c858-05c0-4abb-969d-46c64973da62"
      },
      "outputs": [
        {
          "output_type": "stream",
          "name": "stdout",
          "text": [
            "Requirement already satisfied: flask in /usr/local/lib/python3.10/dist-packages (2.2.5)\n",
            "Collecting pyngrok\n",
            "  Downloading pyngrok-7.2.1-py3-none-any.whl.metadata (8.3 kB)\n",
            "Requirement already satisfied: Werkzeug>=2.2.2 in /usr/local/lib/python3.10/dist-packages (from flask) (3.0.6)\n",
            "Requirement already satisfied: Jinja2>=3.0 in /usr/local/lib/python3.10/dist-packages (from flask) (3.1.4)\n",
            "Requirement already satisfied: itsdangerous>=2.0 in /usr/local/lib/python3.10/dist-packages (from flask) (2.2.0)\n",
            "Requirement already satisfied: click>=8.0 in /usr/local/lib/python3.10/dist-packages (from flask) (8.1.7)\n",
            "Requirement already satisfied: PyYAML>=5.1 in /usr/local/lib/python3.10/dist-packages (from pyngrok) (6.0.2)\n",
            "Requirement already satisfied: MarkupSafe>=2.0 in /usr/local/lib/python3.10/dist-packages (from Jinja2>=3.0->flask) (3.0.2)\n",
            "Downloading pyngrok-7.2.1-py3-none-any.whl (22 kB)\n",
            "Installing collected packages: pyngrok\n",
            "Successfully installed pyngrok-7.2.1\n"
          ]
        }
      ],
      "source": [
        "!pip install flask pyngrok\n"
      ]
    },
    {
      "cell_type": "code",
      "source": [
        "from pyngrok import ngrok\n",
        "\n",
        "\n",
        "# Replace 'your_auth_token_here' with your actual token from Ngrok\n",
        "ngrok.set_auth_token(\"2norpOtT8Z4kpj8kCDTi1Otxvw0_5ngmuJAjDJhYvkwAjW3bM\")\n"
      ],
      "metadata": {
        "id": "XKlEGPDpJK7R"
      },
      "execution_count": 3,
      "outputs": []
    },
    {
      "cell_type": "code",
      "source": [
        "# Import necessary libraries\n",
        "from flask import Flask, render_template_string, request, session, redirect, url_for\n",
        "from pyngrok import ngrok\n",
        "import os\n",
        "import random\n",
        "\n",
        "# Initialize Flask app\n",
        "app = Flask(__name__)\n",
        "app.secret_key = os.urandom(24).hex()  # Secure random secret key\n",
        "\n",
        "# Conversion data for A/B test\n",
        "conversions = {\"A\": 0, \"B\": 0}\n",
        "\n",
        "# HTML templates for two landing pages (A and B)\n",
        "version_a_html = '''\n",
        "<!DOCTYPE html>\n",
        "<html lang=\"en\">\n",
        "<head>\n",
        "    <title>Landing Page A</title>\n",
        "</head>\n",
        "<body>\n",
        "    <h1>Welcome to Our Product - Version A</h1>\n",
        "    <p>Experience the best of what we have to offer!</p>\n",
        "    <form action=\"/signup\" method=\"post\">\n",
        "        <button type=\"submit\">Sign Up</button>\n",
        "    </form>\n",
        "</body>\n",
        "</html>\n",
        "'''\n",
        "\n",
        "version_b_html = '''\n",
        "<!DOCTYPE html>\n",
        "<html lang=\"en\">\n",
        "<head>\n",
        "    <title>Landing Page B</title>\n",
        "</head>\n",
        "<body>\n",
        "    <h1>Welcome to Our Product - Version B</h1>\n",
        "    <p>Join us and start your journey today!</p>\n",
        "    <form action=\"/signup\" method=\"post\">\n",
        "        <button type=\"submit\">Sign Up</button>\n",
        "    </form>\n",
        "</body>\n",
        "</html>\n",
        "'''\n",
        "\n",
        "# Route to assign a user to a version (A or B)\n",
        "@app.route(\"/\")\n",
        "def index():\n",
        "    version = random.choice([\"A\", \"B\"])\n",
        "    session[\"version\"] = version\n",
        "    if version == \"A\":\n",
        "        return render_template_string(version_a_html)\n",
        "    else:\n",
        "        return render_template_string(version_b_html)\n",
        "\n",
        "# Route for when a user signs up\n",
        "@app.route(\"/signup\", methods=[\"POST\"])\n",
        "def signup():\n",
        "    version = session.get(\"version\", \"A\")\n",
        "    conversions[version] += 1\n",
        "    return redirect(url_for(\"thank_you\"))\n",
        "\n",
        "# Route for thank-you page after sign-up\n",
        "@app.route(\"/thank_you\")\n",
        "def thank_you():\n",
        "    return \"Thank you for signing up!\"\n",
        "\n",
        "# Route to view the results of the A/B test\n",
        "@app.route(\"/results\")\n",
        "def results():\n",
        "    return f\"<h1>A/B Test Results</h1><p>Version A conversions: {conversions['A']}</p><p>Version B conversions: {conversions['B']}</p>\"\n",
        "\n",
        "# Ensure ngrok is authenticated and connected\n",
        "# Set your ngrok authentication token here\n",
        "NGROK_AUTH_TOKEN = \"2norpOtT8Z4kpj8kCDTi1Otxvw0_5ngmuJAjDJhYvkwAjW3bM\"\n",
        "ngrok.set_auth_token(NGROK_AUTH_TOKEN)\n",
        "\n",
        "# Start ngrok and run the app on Colab\n",
        "public_url = ngrok.connect(5000)\n",
        "print(\" * ngrok URL:\", public_url)\n",
        "app.run(port=5000)\n"
      ],
      "metadata": {
        "colab": {
          "base_uri": "https://localhost:8080/"
        },
        "id": "n4XnLPTxIzwu",
        "outputId": "a86b952e-d051-4ccd-9b25-cdb54b1dafeb"
      },
      "execution_count": 6,
      "outputs": [
        {
          "output_type": "stream",
          "name": "stdout",
          "text": [
            " * ngrok URL: NgrokTunnel: \"https://74e2-34-19-76-188.ngrok-free.app\" -> \"http://localhost:5000\"\n",
            " * Serving Flask app '__main__'\n",
            " * Debug mode: off\n"
          ]
        },
        {
          "output_type": "stream",
          "name": "stderr",
          "text": [
            "INFO:werkzeug:\u001b[31m\u001b[1mWARNING: This is a development server. Do not use it in a production deployment. Use a production WSGI server instead.\u001b[0m\n",
            " * Running on http://127.0.0.1:5000\n",
            "INFO:werkzeug:\u001b[33mPress CTRL+C to quit\u001b[0m\n",
            "INFO:werkzeug:127.0.0.1 - - [06/Nov/2024 06:28:41] \"GET / HTTP/1.1\" 200 -\n",
            "INFO:werkzeug:127.0.0.1 - - [06/Nov/2024 06:28:41] \"GET / HTTP/1.1\" 200 -\n",
            "INFO:werkzeug:127.0.0.1 - - [06/Nov/2024 06:28:41] \"\u001b[33mGET /favicon.ico HTTP/1.1\u001b[0m\" 404 -\n",
            "INFO:werkzeug:127.0.0.1 - - [06/Nov/2024 06:28:54] \"\u001b[32mPOST /signup HTTP/1.1\u001b[0m\" 302 -\n",
            "INFO:werkzeug:127.0.0.1 - - [06/Nov/2024 06:28:54] \"GET /thank_you HTTP/1.1\" 200 -\n",
            "INFO:werkzeug:127.0.0.1 - - [06/Nov/2024 06:28:55] \"GET /thank_you HTTP/1.1\" 200 -\n",
            "INFO:werkzeug:127.0.0.1 - - [06/Nov/2024 06:29:08] \"GET /thank_you HTTP/1.1\" 200 -\n",
            "INFO:werkzeug:127.0.0.1 - - [06/Nov/2024 06:29:08] \"GET /thank_you HTTP/1.1\" 200 -\n",
            "INFO:werkzeug:127.0.0.1 - - [06/Nov/2024 06:29:10] \"GET /thank_you HTTP/1.1\" 200 -\n",
            "INFO:werkzeug:127.0.0.1 - - [06/Nov/2024 06:29:10] \"GET /thank_you HTTP/1.1\" 200 -\n",
            "INFO:werkzeug:127.0.0.1 - - [06/Nov/2024 06:29:20] \"GET / HTTP/1.1\" 200 -\n",
            "INFO:werkzeug:127.0.0.1 - - [06/Nov/2024 06:29:21] \"GET / HTTP/1.1\" 200 -\n",
            "INFO:werkzeug:127.0.0.1 - - [06/Nov/2024 06:29:34] \"\u001b[32mPOST /signup HTTP/1.1\u001b[0m\" 302 -\n",
            "INFO:werkzeug:127.0.0.1 - - [06/Nov/2024 06:29:34] \"GET /thank_you HTTP/1.1\" 200 -\n",
            "INFO:werkzeug:127.0.0.1 - - [06/Nov/2024 06:29:34] \"GET /thank_you HTTP/1.1\" 200 -\n",
            "INFO:werkzeug:127.0.0.1 - - [06/Nov/2024 06:31:44] \"GET /results HTTP/1.1\" 200 -\n",
            "INFO:werkzeug:127.0.0.1 - - [06/Nov/2024 06:31:44] \"GET /results HTTP/1.1\" 200 -\n"
          ]
        }
      ]
    },
    {
      "cell_type": "code",
      "source": [],
      "metadata": {
        "id": "272Tm7E0I7Y7"
      },
      "execution_count": null,
      "outputs": []
    }
  ]
}